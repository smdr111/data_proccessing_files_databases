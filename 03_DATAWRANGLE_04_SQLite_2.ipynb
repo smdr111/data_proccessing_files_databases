{
  "cells": [
    {
      "cell_type": "markdown",
      "metadata": {
        "id": "view-in-github",
        "colab_type": "text"
      },
      "source": [
        "<a href=\"https://colab.research.google.com/github/smdr111/data_proccessing_files_databases/blob/main/03_DATAWRANGLE_04_SQLite_2.ipynb\" target=\"_parent\"><img src=\"https://colab.research.google.com/assets/colab-badge.svg\" alt=\"Open In Colab\"/></a>"
      ]
    },
    {
      "cell_type": "markdown",
      "id": "b4fb9042-d293-44c3-8a0c-f95a30124fb2",
      "metadata": {
        "id": "b4fb9042-d293-44c3-8a0c-f95a30124fb2"
      },
      "source": [
        "![Imgur](https://i.imgur.com/5pXzCIu.png)\n",
        "\n",
        "# Data Science va Sun'iy Intellekt Praktikum\n",
        "\n",
        "## 3-MODUL. MA’LUMOTLARGA ISHLOV BERISH\n",
        "\n",
        "### 3.1 Fayllar bilan ishlash\n",
        "\n",
        "#### Ma'lumotlar ombori. 2-qism"
      ]
    },
    {
      "cell_type": "markdown",
      "id": "a59d2ec7-72ed-4eef-a05a-16c6e22febdd",
      "metadata": {
        "id": "a59d2ec7-72ed-4eef-a05a-16c6e22febdd"
      },
      "source": [
        "# Mavjud DF ni Omborga yangi jadval ko'rinishida yuklash\n",
        "\n",
        "Kerakli modullarni chaqiramiz"
      ]
    },
    {
      "cell_type": "code",
      "execution_count": null,
      "id": "701506b9-c73a-4c52-b3c6-db2308bb7c68",
      "metadata": {
        "id": "701506b9-c73a-4c52-b3c6-db2308bb7c68"
      },
      "outputs": [],
      "source": [
        "import pandas as pd\n",
        "import sqlite3 as sql"
      ]
    },
    {
      "cell_type": "markdown",
      "id": "38bf015e-6767-41c8-a4cf-bf9166692ce2",
      "metadata": {
        "id": "38bf015e-6767-41c8-a4cf-bf9166692ce2"
      },
      "source": [
        "Yangi ma'lumotlar omborini yaratamiz"
      ]
    },
    {
      "cell_type": "code",
      "execution_count": null,
      "id": "06d714ee-de09-4501-ad43-04c116959159",
      "metadata": {
        "id": "06d714ee-de09-4501-ad43-04c116959159"
      },
      "outputs": [],
      "source": [
        "db =sql.connect(\"newdb.db\")\n",
        "cursor = db.cursor()"
      ]
    },
    {
      "cell_type": "markdown",
      "id": "8776d5a1-4503-424c-9f9e-5d26c6901649",
      "metadata": {
        "id": "8776d5a1-4503-424c-9f9e-5d26c6901649"
      },
      "source": [
        "Ishlash uchun onlayndan jadval yuklab olamiz"
      ]
    },
    {
      "cell_type": "code",
      "execution_count": null,
      "id": "7c619d01-784b-48da-86cb-e0cd12eb1202",
      "metadata": {
        "id": "7c619d01-784b-48da-86cb-e0cd12eb1202",
        "outputId": "fee34bf9-b512-466e-c140-5a867334ba58"
      },
      "outputs": [
        {
          "data": {
            "text/html": [
              "<div>\n",
              "<style scoped>\n",
              "    .dataframe tbody tr th:only-of-type {\n",
              "        vertical-align: middle;\n",
              "    }\n",
              "\n",
              "    .dataframe tbody tr th {\n",
              "        vertical-align: top;\n",
              "    }\n",
              "\n",
              "    .dataframe thead th {\n",
              "        text-align: right;\n",
              "    }\n",
              "</style>\n",
              "<table border=\"1\" class=\"dataframe\">\n",
              "  <thead>\n",
              "    <tr style=\"text-align: right;\">\n",
              "      <th></th>\n",
              "      <th>Entity</th>\n",
              "      <th>Code</th>\n",
              "      <th>Year</th>\n",
              "      <th>Electricity from coal (TWh)</th>\n",
              "      <th>Electricity from gas (TWh)</th>\n",
              "      <th>Electricity from hydro (TWh)</th>\n",
              "      <th>Electricity from other renewables (TWh)</th>\n",
              "      <th>Electricity from solar (TWh)</th>\n",
              "      <th>Electricity from oil (TWh)</th>\n",
              "      <th>Electricity from wind (TWh)</th>\n",
              "      <th>Electricity from nuclear (TWh)</th>\n",
              "    </tr>\n",
              "  </thead>\n",
              "  <tbody>\n",
              "    <tr>\n",
              "      <th>0</th>\n",
              "      <td>Afghanistan</td>\n",
              "      <td>AFG</td>\n",
              "      <td>2000</td>\n",
              "      <td>0.0</td>\n",
              "      <td>0.155</td>\n",
              "      <td>0.312</td>\n",
              "      <td>0.0</td>\n",
              "      <td>0.0</td>\n",
              "      <td>0.0</td>\n",
              "      <td>0.0</td>\n",
              "      <td>0.0</td>\n",
              "    </tr>\n",
              "    <tr>\n",
              "      <th>1</th>\n",
              "      <td>Afghanistan</td>\n",
              "      <td>AFG</td>\n",
              "      <td>2001</td>\n",
              "      <td>0.0</td>\n",
              "      <td>0.094</td>\n",
              "      <td>0.498</td>\n",
              "      <td>0.0</td>\n",
              "      <td>0.0</td>\n",
              "      <td>0.0</td>\n",
              "      <td>0.0</td>\n",
              "      <td>0.0</td>\n",
              "    </tr>\n",
              "    <tr>\n",
              "      <th>2</th>\n",
              "      <td>Afghanistan</td>\n",
              "      <td>AFG</td>\n",
              "      <td>2002</td>\n",
              "      <td>0.0</td>\n",
              "      <td>0.132</td>\n",
              "      <td>0.555</td>\n",
              "      <td>0.0</td>\n",
              "      <td>0.0</td>\n",
              "      <td>0.0</td>\n",
              "      <td>0.0</td>\n",
              "      <td>0.0</td>\n",
              "    </tr>\n",
              "    <tr>\n",
              "      <th>3</th>\n",
              "      <td>Afghanistan</td>\n",
              "      <td>AFG</td>\n",
              "      <td>2003</td>\n",
              "      <td>0.0</td>\n",
              "      <td>0.309</td>\n",
              "      <td>0.630</td>\n",
              "      <td>0.0</td>\n",
              "      <td>0.0</td>\n",
              "      <td>0.0</td>\n",
              "      <td>0.0</td>\n",
              "      <td>0.0</td>\n",
              "    </tr>\n",
              "    <tr>\n",
              "      <th>4</th>\n",
              "      <td>Afghanistan</td>\n",
              "      <td>AFG</td>\n",
              "      <td>2004</td>\n",
              "      <td>0.0</td>\n",
              "      <td>0.329</td>\n",
              "      <td>0.565</td>\n",
              "      <td>0.0</td>\n",
              "      <td>0.0</td>\n",
              "      <td>0.0</td>\n",
              "      <td>0.0</td>\n",
              "      <td>0.0</td>\n",
              "    </tr>\n",
              "  </tbody>\n",
              "</table>\n",
              "</div>"
            ],
            "text/plain": [
              "        Entity Code  Year  Electricity from coal (TWh)  \\\n",
              "0  Afghanistan  AFG  2000                          0.0   \n",
              "1  Afghanistan  AFG  2001                          0.0   \n",
              "2  Afghanistan  AFG  2002                          0.0   \n",
              "3  Afghanistan  AFG  2003                          0.0   \n",
              "4  Afghanistan  AFG  2004                          0.0   \n",
              "\n",
              "   Electricity from gas (TWh)  Electricity from hydro (TWh)  \\\n",
              "0                       0.155                         0.312   \n",
              "1                       0.094                         0.498   \n",
              "2                       0.132                         0.555   \n",
              "3                       0.309                         0.630   \n",
              "4                       0.329                         0.565   \n",
              "\n",
              "   Electricity from other renewables (TWh)  Electricity from solar (TWh)  \\\n",
              "0                                      0.0                           0.0   \n",
              "1                                      0.0                           0.0   \n",
              "2                                      0.0                           0.0   \n",
              "3                                      0.0                           0.0   \n",
              "4                                      0.0                           0.0   \n",
              "\n",
              "   Electricity from oil (TWh)  Electricity from wind (TWh)  \\\n",
              "0                         0.0                          0.0   \n",
              "1                         0.0                          0.0   \n",
              "2                         0.0                          0.0   \n",
              "3                         0.0                          0.0   \n",
              "4                         0.0                          0.0   \n",
              "\n",
              "   Electricity from nuclear (TWh)  \n",
              "0                             0.0  \n",
              "1                             0.0  \n",
              "2                             0.0  \n",
              "3                             0.0  \n",
              "4                             0.0  "
            ]
          },
          "execution_count": 3,
          "metadata": {},
          "output_type": "execute_result"
        }
      ],
      "source": [
        "df = pd.read_csv(\"https://raw.githubusercontent.com/anvarnarz/praktikum_datasets/main/Electricity_Production_By_Source.csv\")\n",
        "df.head()"
      ]
    },
    {
      "cell_type": "markdown",
      "id": "42a89db9-d918-4672-80dc-7ca1a8c66f6a",
      "metadata": {
        "id": "42a89db9-d918-4672-80dc-7ca1a8c66f6a"
      },
      "source": [
        "DFni omborga yuklashdan avval, kelin ustunlar nomini qisqartiraylik. Bunday qilishimizga sabab, keyinchalik SQL komandalar yozganda uzun nomlarni yozish o'ziga yarasha noqulayliklar keltirib chiqaradi."
      ]
    },
    {
      "cell_type": "code",
      "execution_count": null,
      "id": "d37ddec1-0b53-4dbe-acd4-95dea7869d5c",
      "metadata": {
        "id": "d37ddec1-0b53-4dbe-acd4-95dea7869d5c",
        "outputId": "9a8a3bd9-1842-492d-a7be-798d99755192"
      },
      "outputs": [
        {
          "data": {
            "text/html": [
              "<div>\n",
              "<style scoped>\n",
              "    .dataframe tbody tr th:only-of-type {\n",
              "        vertical-align: middle;\n",
              "    }\n",
              "\n",
              "    .dataframe tbody tr th {\n",
              "        vertical-align: top;\n",
              "    }\n",
              "\n",
              "    .dataframe thead th {\n",
              "        text-align: right;\n",
              "    }\n",
              "</style>\n",
              "<table border=\"1\" class=\"dataframe\">\n",
              "  <thead>\n",
              "    <tr style=\"text-align: right;\">\n",
              "      <th></th>\n",
              "      <th>country</th>\n",
              "      <th>code</th>\n",
              "      <th>year</th>\n",
              "      <th>coal</th>\n",
              "      <th>gas</th>\n",
              "      <th>hydro</th>\n",
              "      <th>renewable_other</th>\n",
              "      <th>solar</th>\n",
              "      <th>oil</th>\n",
              "      <th>wind</th>\n",
              "      <th>nuclear</th>\n",
              "    </tr>\n",
              "  </thead>\n",
              "  <tbody>\n",
              "    <tr>\n",
              "      <th>0</th>\n",
              "      <td>Afghanistan</td>\n",
              "      <td>AFG</td>\n",
              "      <td>2000</td>\n",
              "      <td>0.0</td>\n",
              "      <td>0.155</td>\n",
              "      <td>0.312</td>\n",
              "      <td>0.0</td>\n",
              "      <td>0.0</td>\n",
              "      <td>0.0</td>\n",
              "      <td>0.0</td>\n",
              "      <td>0.0</td>\n",
              "    </tr>\n",
              "    <tr>\n",
              "      <th>1</th>\n",
              "      <td>Afghanistan</td>\n",
              "      <td>AFG</td>\n",
              "      <td>2001</td>\n",
              "      <td>0.0</td>\n",
              "      <td>0.094</td>\n",
              "      <td>0.498</td>\n",
              "      <td>0.0</td>\n",
              "      <td>0.0</td>\n",
              "      <td>0.0</td>\n",
              "      <td>0.0</td>\n",
              "      <td>0.0</td>\n",
              "    </tr>\n",
              "    <tr>\n",
              "      <th>2</th>\n",
              "      <td>Afghanistan</td>\n",
              "      <td>AFG</td>\n",
              "      <td>2002</td>\n",
              "      <td>0.0</td>\n",
              "      <td>0.132</td>\n",
              "      <td>0.555</td>\n",
              "      <td>0.0</td>\n",
              "      <td>0.0</td>\n",
              "      <td>0.0</td>\n",
              "      <td>0.0</td>\n",
              "      <td>0.0</td>\n",
              "    </tr>\n",
              "    <tr>\n",
              "      <th>3</th>\n",
              "      <td>Afghanistan</td>\n",
              "      <td>AFG</td>\n",
              "      <td>2003</td>\n",
              "      <td>0.0</td>\n",
              "      <td>0.309</td>\n",
              "      <td>0.630</td>\n",
              "      <td>0.0</td>\n",
              "      <td>0.0</td>\n",
              "      <td>0.0</td>\n",
              "      <td>0.0</td>\n",
              "      <td>0.0</td>\n",
              "    </tr>\n",
              "    <tr>\n",
              "      <th>4</th>\n",
              "      <td>Afghanistan</td>\n",
              "      <td>AFG</td>\n",
              "      <td>2004</td>\n",
              "      <td>0.0</td>\n",
              "      <td>0.329</td>\n",
              "      <td>0.565</td>\n",
              "      <td>0.0</td>\n",
              "      <td>0.0</td>\n",
              "      <td>0.0</td>\n",
              "      <td>0.0</td>\n",
              "      <td>0.0</td>\n",
              "    </tr>\n",
              "  </tbody>\n",
              "</table>\n",
              "</div>"
            ],
            "text/plain": [
              "       country code  year  coal    gas  hydro  renewable_other  solar  oil  \\\n",
              "0  Afghanistan  AFG  2000   0.0  0.155  0.312              0.0    0.0  0.0   \n",
              "1  Afghanistan  AFG  2001   0.0  0.094  0.498              0.0    0.0  0.0   \n",
              "2  Afghanistan  AFG  2002   0.0  0.132  0.555              0.0    0.0  0.0   \n",
              "3  Afghanistan  AFG  2003   0.0  0.309  0.630              0.0    0.0  0.0   \n",
              "4  Afghanistan  AFG  2004   0.0  0.329  0.565              0.0    0.0  0.0   \n",
              "\n",
              "   wind  nuclear  \n",
              "0   0.0      0.0  \n",
              "1   0.0      0.0  \n",
              "2   0.0      0.0  \n",
              "3   0.0      0.0  \n",
              "4   0.0      0.0  "
            ]
          },
          "execution_count": 4,
          "metadata": {},
          "output_type": "execute_result"
        }
      ],
      "source": [
        "cols = ['country','code','year','coal','gas','hydro','renewable_other','solar','oil','wind','nuclear']\n",
        "df.columns = cols\n",
        "df.head()"
      ]
    },
    {
      "cell_type": "markdown",
      "id": "a75e2b6e-d49f-4650-9c8f-17def6f940c5",
      "metadata": {
        "id": "a75e2b6e-d49f-4650-9c8f-17def6f940c5"
      },
      "source": [
        "`.to_sql()` metodi yordamida jadvalni to'g'ridan to'g'ri omborga ko'chirishimiz mumkin.\n",
        "\n",
        "Jadvalga `jadval` deb yangi nom beramiz."
      ]
    },
    {
      "cell_type": "code",
      "execution_count": null,
      "id": "ac7acb84-2c76-491c-9559-8450152aeb41",
      "metadata": {
        "id": "ac7acb84-2c76-491c-9559-8450152aeb41"
      },
      "outputs": [],
      "source": [
        "df.to_sql('jadval',db)"
      ]
    },
    {
      "cell_type": "markdown",
      "id": "0c0e35b9-bf52-4885-bf26-78dbfac221c4",
      "metadata": {
        "id": "0c0e35b9-bf52-4885-bf26-78dbfac221c4"
      },
      "source": [
        "Jadvalni qaytib o'qiymiz"
      ]
    },
    {
      "cell_type": "code",
      "execution_count": null,
      "id": "b392202a-92ec-4825-8371-1ed7b3565f66",
      "metadata": {
        "id": "b392202a-92ec-4825-8371-1ed7b3565f66"
      },
      "outputs": [],
      "source": [
        "query = \"SELECT * FROM jadval\"\n",
        "df2 = pd.read_sql(query,db, index_col=\"index\")"
      ]
    },
    {
      "cell_type": "code",
      "execution_count": null,
      "id": "0299c51c-fd35-4f40-9246-18eca44354be",
      "metadata": {
        "id": "0299c51c-fd35-4f40-9246-18eca44354be",
        "outputId": "f904722c-f2fe-4b6a-dff0-83c1de55bd57"
      },
      "outputs": [
        {
          "data": {
            "text/html": [
              "<div>\n",
              "<style scoped>\n",
              "    .dataframe tbody tr th:only-of-type {\n",
              "        vertical-align: middle;\n",
              "    }\n",
              "\n",
              "    .dataframe tbody tr th {\n",
              "        vertical-align: top;\n",
              "    }\n",
              "\n",
              "    .dataframe thead th {\n",
              "        text-align: right;\n",
              "    }\n",
              "</style>\n",
              "<table border=\"1\" class=\"dataframe\">\n",
              "  <thead>\n",
              "    <tr style=\"text-align: right;\">\n",
              "      <th></th>\n",
              "      <th>country</th>\n",
              "      <th>code</th>\n",
              "      <th>year</th>\n",
              "      <th>coal</th>\n",
              "      <th>gas</th>\n",
              "      <th>hydro</th>\n",
              "      <th>renewable_other</th>\n",
              "      <th>solar</th>\n",
              "      <th>oil</th>\n",
              "      <th>wind</th>\n",
              "      <th>nuclear</th>\n",
              "    </tr>\n",
              "    <tr>\n",
              "      <th>index</th>\n",
              "      <th></th>\n",
              "      <th></th>\n",
              "      <th></th>\n",
              "      <th></th>\n",
              "      <th></th>\n",
              "      <th></th>\n",
              "      <th></th>\n",
              "      <th></th>\n",
              "      <th></th>\n",
              "      <th></th>\n",
              "      <th></th>\n",
              "    </tr>\n",
              "  </thead>\n",
              "  <tbody>\n",
              "    <tr>\n",
              "      <th>0</th>\n",
              "      <td>Afghanistan</td>\n",
              "      <td>AFG</td>\n",
              "      <td>2000</td>\n",
              "      <td>0.0</td>\n",
              "      <td>0.155</td>\n",
              "      <td>0.312</td>\n",
              "      <td>0.0</td>\n",
              "      <td>0.0</td>\n",
              "      <td>0.0</td>\n",
              "      <td>0.0</td>\n",
              "      <td>0.0</td>\n",
              "    </tr>\n",
              "    <tr>\n",
              "      <th>1</th>\n",
              "      <td>Afghanistan</td>\n",
              "      <td>AFG</td>\n",
              "      <td>2001</td>\n",
              "      <td>0.0</td>\n",
              "      <td>0.094</td>\n",
              "      <td>0.498</td>\n",
              "      <td>0.0</td>\n",
              "      <td>0.0</td>\n",
              "      <td>0.0</td>\n",
              "      <td>0.0</td>\n",
              "      <td>0.0</td>\n",
              "    </tr>\n",
              "    <tr>\n",
              "      <th>2</th>\n",
              "      <td>Afghanistan</td>\n",
              "      <td>AFG</td>\n",
              "      <td>2002</td>\n",
              "      <td>0.0</td>\n",
              "      <td>0.132</td>\n",
              "      <td>0.555</td>\n",
              "      <td>0.0</td>\n",
              "      <td>0.0</td>\n",
              "      <td>0.0</td>\n",
              "      <td>0.0</td>\n",
              "      <td>0.0</td>\n",
              "    </tr>\n",
              "    <tr>\n",
              "      <th>3</th>\n",
              "      <td>Afghanistan</td>\n",
              "      <td>AFG</td>\n",
              "      <td>2003</td>\n",
              "      <td>0.0</td>\n",
              "      <td>0.309</td>\n",
              "      <td>0.630</td>\n",
              "      <td>0.0</td>\n",
              "      <td>0.0</td>\n",
              "      <td>0.0</td>\n",
              "      <td>0.0</td>\n",
              "      <td>0.0</td>\n",
              "    </tr>\n",
              "    <tr>\n",
              "      <th>4</th>\n",
              "      <td>Afghanistan</td>\n",
              "      <td>AFG</td>\n",
              "      <td>2004</td>\n",
              "      <td>0.0</td>\n",
              "      <td>0.329</td>\n",
              "      <td>0.565</td>\n",
              "      <td>0.0</td>\n",
              "      <td>0.0</td>\n",
              "      <td>0.0</td>\n",
              "      <td>0.0</td>\n",
              "      <td>0.0</td>\n",
              "    </tr>\n",
              "  </tbody>\n",
              "</table>\n",
              "</div>"
            ],
            "text/plain": [
              "           country code  year  coal    gas  hydro  renewable_other  solar  \\\n",
              "index                                                                       \n",
              "0      Afghanistan  AFG  2000   0.0  0.155  0.312              0.0    0.0   \n",
              "1      Afghanistan  AFG  2001   0.0  0.094  0.498              0.0    0.0   \n",
              "2      Afghanistan  AFG  2002   0.0  0.132  0.555              0.0    0.0   \n",
              "3      Afghanistan  AFG  2003   0.0  0.309  0.630              0.0    0.0   \n",
              "4      Afghanistan  AFG  2004   0.0  0.329  0.565              0.0    0.0   \n",
              "\n",
              "       oil  wind  nuclear  \n",
              "index                      \n",
              "0      0.0   0.0      0.0  \n",
              "1      0.0   0.0      0.0  \n",
              "2      0.0   0.0      0.0  \n",
              "3      0.0   0.0      0.0  \n",
              "4      0.0   0.0      0.0  "
            ]
          },
          "execution_count": 7,
          "metadata": {},
          "output_type": "execute_result"
        }
      ],
      "source": [
        "df2.head()"
      ]
    },
    {
      "cell_type": "code",
      "execution_count": null,
      "id": "67e2553f-b292-4c06-8541-2e17042ce0f9",
      "metadata": {
        "id": "67e2553f-b292-4c06-8541-2e17042ce0f9",
        "outputId": "d6dbd8ca-ab51-4a16-86b6-233c92e54fb7"
      },
      "outputs": [
        {
          "name": "stdout",
          "output_type": "stream",
          "text": [
            "<class 'pandas.core.frame.DataFrame'>\n",
            "Int64Index: 6241 entries, 0 to 6240\n",
            "Data columns (total 11 columns):\n",
            " #   Column           Non-Null Count  Dtype  \n",
            "---  ------           --------------  -----  \n",
            " 0   country          6241 non-null   object \n",
            " 1   code             5474 non-null   object \n",
            " 2   year             6241 non-null   int64  \n",
            " 3   coal             5221 non-null   float64\n",
            " 4   gas              5221 non-null   float64\n",
            " 5   hydro            6241 non-null   float64\n",
            " 6   renewable_other  6206 non-null   float64\n",
            " 7   solar            6241 non-null   float64\n",
            " 8   oil              5221 non-null   float64\n",
            " 9   wind             6241 non-null   float64\n",
            " 10  nuclear          6241 non-null   float64\n",
            "dtypes: float64(8), int64(1), object(2)\n",
            "memory usage: 585.1+ KB\n"
          ]
        }
      ],
      "source": [
        "df2.info()"
      ]
    },
    {
      "cell_type": "markdown",
      "id": "a4fac66e-9747-4022-824b-1955a96a12e1",
      "metadata": {
        "id": "a4fac66e-9747-4022-824b-1955a96a12e1"
      },
      "source": [
        "# Omborda bo'sh jadval yaratish"
      ]
    },
    {
      "cell_type": "markdown",
      "id": "24632295-f397-43db-a59d-03c908d263c7",
      "metadata": {
        "id": "24632295-f397-43db-a59d-03c908d263c7"
      },
      "source": [
        "**Jadval yaratish qadamlari:**\n",
        "- `CREATE TABLE` - jadval yaratish buyrug'i\n",
        "- `IF NOT EXISTS` - jadval mavjud bo'lmasa\n",
        "- `worldpop` - jadval nomi\n",
        "- Qavs ichida jadval ustunlari, ustundagi ma'lumot turi va qo'shimcha parametrlar vergul bilan ajratib yoziladi.\n",
        "\n",
        "**Quyidagi misolada jadvalimiz 5 ta ustundan iborat:**\n",
        "- `rank` - davlat reytingi (zichlik bo'yicha), `INT` ya'ni butun son.\n",
        "- `country` - davlat nomi, `TEXT` - matn, `PRIMARY KEY` - birlamchi qiymat, qatorga shu ustun qiymati bilan murojaat qilinadi (takrorlanman bo'lishi kerak)\n",
        "- `density` - zichlik, `DOUBLE` - o'nlik son\n",
        "- `population` - aholi soni, `DOUBLE` - o'nlik son, `NOT NULL` - bo'sh bo'lmasligi (qiymat berilishi shart)\n",
        "- `area` - maydoni, `INT` - butun son, `NOT NULL` - qiymat berilishi shart."
      ]
    },
    {
      "cell_type": "code",
      "execution_count": null,
      "id": "d0a83736-93c2-45b9-8301-39e668c3d87a",
      "metadata": {
        "id": "d0a83736-93c2-45b9-8301-39e668c3d87a"
      },
      "outputs": [],
      "source": [
        "query = \"\"\"\n",
        "CREATE TABLE IF NOT EXISTS worldpop(\n",
        "rank INT,\n",
        "country TEXT PRIMARY KEY,\n",
        "density DOUBLE,\n",
        "population DOUBLE NOT NULL,\n",
        "area INT NOT NULL\n",
        ");\n",
        "\"\"\"\n",
        "cursor.execute(query)\n",
        "db.commit()"
      ]
    },
    {
      "cell_type": "markdown",
      "id": "fbee36fd-2131-461e-9bed-eeb722c94dea",
      "metadata": {
        "id": "fbee36fd-2131-461e-9bed-eeb722c94dea"
      },
      "source": [
        "Ahamiyat bering, endi o'zgartirish kiritgandan so'ng natijalarni xotiradan faylga yozish uchun `.commit()` metodiga murojaat qilayapmiz."
      ]
    },
    {
      "cell_type": "markdown",
      "id": "e9fed2a5-ea0e-43a8-bd7b-638e84beeb2c",
      "metadata": {
        "id": "e9fed2a5-ea0e-43a8-bd7b-638e84beeb2c"
      },
      "source": [
        "Jadval qo'shilganini tekshirib ko'ramiz"
      ]
    },
    {
      "cell_type": "code",
      "execution_count": null,
      "id": "e1442e68-0bb9-430b-bd98-90a635fc0a43",
      "metadata": {
        "id": "e1442e68-0bb9-430b-bd98-90a635fc0a43",
        "outputId": "da378c73-3f7e-4e10-b25d-b4b1a59e9a75"
      },
      "outputs": [
        {
          "name": "stdout",
          "output_type": "stream",
          "text": [
            "[('jadval',), ('worldpop',)]\n"
          ]
        }
      ],
      "source": [
        "cursor.execute(\"SELECT name FROM sqlite_master WHERE type='table';\")\n",
        "print(cursor.fetchall())"
      ]
    },
    {
      "cell_type": "markdown",
      "id": "cccdfbd8-2958-446a-bf15-b38111ab6465",
      "metadata": {
        "id": "cccdfbd8-2958-446a-bf15-b38111ab6465"
      },
      "source": [
        "Jadval ustunlarini tekshirib ko'ramiz"
      ]
    },
    {
      "cell_type": "code",
      "execution_count": null,
      "id": "a21183d2-6da8-40ca-862b-c9d134df91be",
      "metadata": {
        "id": "a21183d2-6da8-40ca-862b-c9d134df91be",
        "outputId": "f28c9660-415d-4fd5-ffee-5c9ae206d7c6"
      },
      "outputs": [
        {
          "data": {
            "text/plain": [
              "[(0, 'rank', 'INT', 0, None, 0),\n",
              " (1, 'country', 'TEXT', 0, None, 1),\n",
              " (2, 'density', 'DOUBLE', 0, None, 0),\n",
              " (3, 'population', 'DOUBLE', 1, None, 0),\n",
              " (4, 'area', 'INT', 1, None, 0)]"
            ]
          },
          "execution_count": 11,
          "metadata": {},
          "output_type": "execute_result"
        }
      ],
      "source": [
        "cursor.execute(\"PRAGMA table_info(worldpop);\")\n",
        "cursor.fetchall()"
      ]
    },
    {
      "cell_type": "markdown",
      "id": "0a96430c-63f5-454c-905c-422ae34a252d",
      "metadata": {
        "id": "0a96430c-63f5-454c-905c-422ae34a252d"
      },
      "source": [
        "Jadvalni o'qiymiz"
      ]
    },
    {
      "cell_type": "code",
      "execution_count": null,
      "id": "9e9d0163-5c66-4d92-8e45-b8f07131dce9",
      "metadata": {
        "id": "9e9d0163-5c66-4d92-8e45-b8f07131dce9",
        "outputId": "fc31a36d-5f31-46f2-906f-978954535197"
      },
      "outputs": [
        {
          "data": {
            "text/html": [
              "<div>\n",
              "<style scoped>\n",
              "    .dataframe tbody tr th:only-of-type {\n",
              "        vertical-align: middle;\n",
              "    }\n",
              "\n",
              "    .dataframe tbody tr th {\n",
              "        vertical-align: top;\n",
              "    }\n",
              "\n",
              "    .dataframe thead th {\n",
              "        text-align: right;\n",
              "    }\n",
              "</style>\n",
              "<table border=\"1\" class=\"dataframe\">\n",
              "  <thead>\n",
              "    <tr style=\"text-align: right;\">\n",
              "      <th></th>\n",
              "      <th>rank</th>\n",
              "      <th>country</th>\n",
              "      <th>density</th>\n",
              "      <th>population</th>\n",
              "      <th>area</th>\n",
              "    </tr>\n",
              "  </thead>\n",
              "  <tbody>\n",
              "  </tbody>\n",
              "</table>\n",
              "</div>"
            ],
            "text/plain": [
              "Empty DataFrame\n",
              "Columns: [rank, country, density, population, area]\n",
              "Index: []"
            ]
          },
          "execution_count": 12,
          "metadata": {},
          "output_type": "execute_result"
        }
      ],
      "source": [
        "query = \"SELECT * FROM worldpop\"\n",
        "df3 = pd.read_sql(query,db)\n",
        "df3"
      ]
    },
    {
      "cell_type": "markdown",
      "id": "3ab2e897-8e17-43e6-86df-9e5f2187451f",
      "metadata": {
        "id": "3ab2e897-8e17-43e6-86df-9e5f2187451f"
      },
      "source": [
        "Hozircha jadval bo'sh."
      ]
    },
    {
      "cell_type": "markdown",
      "id": "035ecfb5-6741-41c5-bab4-86400a93a147",
      "metadata": {
        "id": "035ecfb5-6741-41c5-bab4-86400a93a147"
      },
      "source": [
        "## Jadvalga yangi ma'lumot qo'shish\n",
        "SQL jadvlaga ushbu manzilda joylashgan ma'lumotlarni kiritamiz: https://github.com/anvarnarz/praktikum_datasets/blob/main/world_population.csv\n",
        "\n",
        "![Imgur](https://i.imgur.com/lilTCTm.png)"
      ]
    },
    {
      "cell_type": "markdown",
      "id": "a0f59715-6a54-4a79-ba2a-ae732a5b6531",
      "metadata": {
        "id": "a0f59715-6a54-4a79-ba2a-ae732a5b6531"
      },
      "source": [
        "Keling SQL jadvalga yuqoridan `Macau` davlatiga oid ma'lumotlarni kiritamiz.\n",
        "\n",
        "Agar barcha ustunlar uchun qiymat berayotgan bo'lsak to'g'ridan-to'g'ri qiymatlarni yozamiz. Bunda qiymatlar tartibi jadval ustunlari ketma-ketligi bilan mos tushishiga ahamiyat bering:"
      ]
    },
    {
      "cell_type": "code",
      "execution_count": null,
      "id": "2de9b03e-35f7-4491-87f8-aaee2700b436",
      "metadata": {
        "id": "2de9b03e-35f7-4491-87f8-aaee2700b436"
      },
      "outputs": [],
      "source": [
        "query = \"INSERT INTO worldpop VALUES (1, 'Macau', 21946.4667, 658.3940, 30)\"\n",
        "cursor.execute(query)\n",
        "db.commit()"
      ]
    },
    {
      "cell_type": "markdown",
      "id": "b99fa94a-75f2-44ec-a3f0-65b5a513188c",
      "metadata": {
        "id": "b99fa94a-75f2-44ec-a3f0-65b5a513188c"
      },
      "source": [
        "Qiymat qo'shilganini tekshirib ko'ramiz:"
      ]
    },
    {
      "cell_type": "code",
      "execution_count": null,
      "id": "bb8ea572-9bd4-4e16-817b-a28d0974fe64",
      "metadata": {
        "id": "bb8ea572-9bd4-4e16-817b-a28d0974fe64",
        "outputId": "9dd5d4a3-f2c1-4cba-e1a0-1e10544b8e82"
      },
      "outputs": [
        {
          "data": {
            "text/plain": [
              "[(1, 'Macau', 21946.4667, 658.394, 30)]"
            ]
          },
          "execution_count": 14,
          "metadata": {},
          "output_type": "execute_result"
        }
      ],
      "source": [
        "query = \"SELECT * FROM worldpop\"\n",
        "cursor.execute(query)\n",
        "cursor.fetchall()"
      ]
    },
    {
      "cell_type": "code",
      "execution_count": null,
      "id": "9dfaa692-85a3-49ef-a251-3040c457e4b4",
      "metadata": {
        "id": "9dfaa692-85a3-49ef-a251-3040c457e4b4",
        "outputId": "d620582f-d1a0-4c8e-bd3e-788e66dee6d3"
      },
      "outputs": [
        {
          "data": {
            "text/html": [
              "<div>\n",
              "<style scoped>\n",
              "    .dataframe tbody tr th:only-of-type {\n",
              "        vertical-align: middle;\n",
              "    }\n",
              "\n",
              "    .dataframe tbody tr th {\n",
              "        vertical-align: top;\n",
              "    }\n",
              "\n",
              "    .dataframe thead th {\n",
              "        text-align: right;\n",
              "    }\n",
              "</style>\n",
              "<table border=\"1\" class=\"dataframe\">\n",
              "  <thead>\n",
              "    <tr style=\"text-align: right;\">\n",
              "      <th></th>\n",
              "      <th>rank</th>\n",
              "      <th>country</th>\n",
              "      <th>density</th>\n",
              "      <th>population</th>\n",
              "      <th>area</th>\n",
              "    </tr>\n",
              "  </thead>\n",
              "  <tbody>\n",
              "    <tr>\n",
              "      <th>0</th>\n",
              "      <td>1</td>\n",
              "      <td>Macau</td>\n",
              "      <td>21946.4667</td>\n",
              "      <td>658.394</td>\n",
              "      <td>30</td>\n",
              "    </tr>\n",
              "  </tbody>\n",
              "</table>\n",
              "</div>"
            ],
            "text/plain": [
              "   rank country     density  population  area\n",
              "0     1   Macau  21946.4667     658.394    30"
            ]
          },
          "execution_count": 15,
          "metadata": {},
          "output_type": "execute_result"
        }
      ],
      "source": [
        "pd.read_sql(query,db)"
      ]
    },
    {
      "cell_type": "markdown",
      "id": "fbc43e34-cefc-4796-9923-6efdcbc38117",
      "metadata": {
        "id": "fbc43e34-cefc-4796-9923-6efdcbc38117"
      },
      "source": [
        "Agar faqatgina ma'lum ustunlarga qiymat qo'shilsa, avval ustun nomlari yoziladi. Keling jadvlaga O'zbekiston haqida quyidagi ma'lumotlarni qo'shamiz:\n",
        "- `country` = `Uzbekistan`\n",
        "- `population` = `33935.7630`\n",
        "- `area` = `447400`"
      ]
    },
    {
      "cell_type": "code",
      "execution_count": null,
      "id": "5eae9139-107f-4bfc-99ad-ec3295cc1f95",
      "metadata": {
        "id": "5eae9139-107f-4bfc-99ad-ec3295cc1f95"
      },
      "outputs": [],
      "source": [
        "query = \"\"\"\n",
        "INSERT INTO worldpop (country,population,area)\n",
        "VALUES ('Uzbekistan', 33935.7630, 447400)\n",
        "\"\"\"\n",
        "cursor.execute(query)\n",
        "db.commit()"
      ]
    },
    {
      "cell_type": "markdown",
      "id": "a49860c4-73a8-47a4-8346-128e00908360",
      "metadata": {
        "id": "a49860c4-73a8-47a4-8346-128e00908360"
      },
      "source": [
        "Tekshirib ko'ramiz"
      ]
    },
    {
      "cell_type": "code",
      "execution_count": null,
      "id": "4efe97df-8ab4-4bdd-a670-54d681b5ceaa",
      "metadata": {
        "id": "4efe97df-8ab4-4bdd-a670-54d681b5ceaa",
        "outputId": "11b62cea-ceab-4f39-c7bd-bf153858f081"
      },
      "outputs": [
        {
          "data": {
            "text/plain": [
              "[(1, 'Macau', 21946.4667, 658.394, 30),\n",
              " (None, 'Uzbekistan', None, 33935.763, 447400)]"
            ]
          },
          "execution_count": 17,
          "metadata": {},
          "output_type": "execute_result"
        }
      ],
      "source": [
        "query = \"SELECT * FROM worldpop\"\n",
        "cursor.execute(query)\n",
        "cursor.fetchall()"
      ]
    },
    {
      "cell_type": "markdown",
      "id": "694d85ed-a634-478d-ae71-5e4de57c9858",
      "metadata": {
        "id": "694d85ed-a634-478d-ae71-5e4de57c9858"
      },
      "source": [
        "Ko'rib turganingizdek mavjud bo'lmagan qiymatlar o'rniga `None` qo'yb ketildi."
      ]
    },
    {
      "cell_type": "markdown",
      "id": "542a259c-4b60-4296-aaa3-ca97cdde7d31",
      "metadata": {
        "id": "542a259c-4b60-4296-aaa3-ca97cdde7d31"
      },
      "source": [
        "## Ma'lumotlarni yangilash/qo'shish\n",
        "`Uzbekistan` qatoriga `rank` va `density` qiymatlarini qo'shamiz."
      ]
    },
    {
      "cell_type": "code",
      "execution_count": null,
      "id": "445f428f-b03d-4535-be89-74e93ee2cec2",
      "metadata": {
        "id": "445f428f-b03d-4535-be89-74e93ee2cec2"
      },
      "outputs": [],
      "source": [
        "query = \"\"\"\n",
        "UPDATE worldpop\n",
        "SET rank=133, density=75.8511\n",
        "WHERE country=\"Uzbekistan\"\n",
        "\"\"\"\n",
        "cursor.execute(query)\n",
        "db.commit()"
      ]
    },
    {
      "cell_type": "markdown",
      "id": "aa5f513e-d0f8-4023-8708-453d08b0b2bb",
      "metadata": {
        "id": "aa5f513e-d0f8-4023-8708-453d08b0b2bb"
      },
      "source": [
        "Tekshirib ko'ramiz"
      ]
    },
    {
      "cell_type": "code",
      "execution_count": null,
      "id": "ee1219f7-234f-4a7e-a753-27791a7fe6b2",
      "metadata": {
        "id": "ee1219f7-234f-4a7e-a753-27791a7fe6b2",
        "outputId": "c0b914a1-84c1-40a1-9cd5-57a79c4ad4f6"
      },
      "outputs": [
        {
          "data": {
            "text/plain": [
              "[(1, 'Macau', 21946.4667, 658.394, 30),\n",
              " (133, 'Uzbekistan', 75.8511, 33935.763, 447400)]"
            ]
          },
          "execution_count": 19,
          "metadata": {},
          "output_type": "execute_result"
        }
      ],
      "source": [
        "query = \"SELECT * FROM worldpop\"\n",
        "cursor.execute(query)\n",
        "cursor.fetchall()"
      ]
    },
    {
      "cell_type": "markdown",
      "id": "d3da8a94-59e4-4af1-b216-9af8dae393f5",
      "metadata": {
        "id": "d3da8a94-59e4-4af1-b216-9af8dae393f5"
      },
      "source": [
        "## Jadvaldan ma'lumot o'chirish"
      ]
    },
    {
      "cell_type": "code",
      "execution_count": null,
      "id": "3d5bf28b-fd6d-439d-8413-fddfea2d4471",
      "metadata": {
        "id": "3d5bf28b-fd6d-439d-8413-fddfea2d4471"
      },
      "outputs": [],
      "source": [
        "query = 'DELETE FROM worldpop WHERE country=\"Macau\"'\n",
        "cursor.execute(query)\n",
        "db.commit()"
      ]
    },
    {
      "cell_type": "markdown",
      "id": "3dfa55e4-8fa8-419a-acc0-9377e98f0a79",
      "metadata": {
        "id": "3dfa55e4-8fa8-419a-acc0-9377e98f0a79"
      },
      "source": [
        "Tekshirib ko'ramiz"
      ]
    },
    {
      "cell_type": "code",
      "execution_count": null,
      "id": "f1978c16-bd77-448c-b9af-f7b2d0119bbe",
      "metadata": {
        "id": "f1978c16-bd77-448c-b9af-f7b2d0119bbe",
        "outputId": "be34d718-89cf-42c0-afdd-7971fd540475"
      },
      "outputs": [
        {
          "data": {
            "text/plain": [
              "[(133, 'Uzbekistan', 75.8511, 33935.763, 447400)]"
            ]
          },
          "execution_count": 21,
          "metadata": {},
          "output_type": "execute_result"
        }
      ],
      "source": [
        "query = \"SELECT * FROM worldpop\"\n",
        "cursor.execute(query)\n",
        "cursor.fetchall()"
      ]
    },
    {
      "cell_type": "markdown",
      "id": "3a001e27-ea00-4665-8f5d-fcbf91dbf163",
      "metadata": {
        "id": "3a001e27-ea00-4665-8f5d-fcbf91dbf163"
      },
      "source": [
        "## Jadvalni butunlay o'chirib tashlash"
      ]
    },
    {
      "cell_type": "code",
      "execution_count": null,
      "id": "17552add-4b79-4367-a09e-4a1db677b937",
      "metadata": {
        "id": "17552add-4b79-4367-a09e-4a1db677b937"
      },
      "outputs": [],
      "source": [
        "cursor.execute('DROP TABLE worldpop')\n",
        "db.commit()"
      ]
    },
    {
      "cell_type": "code",
      "execution_count": null,
      "id": "8a3143f1-8d7d-4e56-ad0d-e8b05ab50eba",
      "metadata": {
        "id": "8a3143f1-8d7d-4e56-ad0d-e8b05ab50eba",
        "outputId": "b53e2940-790f-40fa-8717-9aea1674a003"
      },
      "outputs": [
        {
          "name": "stdout",
          "output_type": "stream",
          "text": [
            "[('jadval',)]\n"
          ]
        }
      ],
      "source": [
        "cursor.execute(\"SELECT name FROM sqlite_master WHERE type='table';\")\n",
        "print(cursor.fetchall())"
      ]
    },
    {
      "cell_type": "markdown",
      "id": "e458e5a1-dbcf-459d-90bc-fc124faa0c83",
      "metadata": {
        "id": "e458e5a1-dbcf-459d-90bc-fc124faa0c83"
      },
      "source": [
        "# SQL buyruqlarni f-string yordamida yozish\n",
        "Biz yuqorida SQL buyruqlarni oddiy matn ko'rinishida yozayapamiz, demak Pythondagi f-string yordamida matnlarga o'zgaruvchilarning qiymatini ham qo'shish mumkin.\n",
        "\n",
        "Keling boshlanishiga quyidagi DF ni yaratib olamiz, so'ngra DF qatorlarini yangi SQL jadvalga f-string yordamida yozamiz."
      ]
    },
    {
      "cell_type": "code",
      "execution_count": null,
      "id": "96355a4e-b98d-4ace-ba29-71403bbb2f8d",
      "metadata": {
        "id": "96355a4e-b98d-4ace-ba29-71403bbb2f8d",
        "outputId": "a42750a0-645d-4415-f689-42dc6d011927"
      },
      "outputs": [
        {
          "data": {
            "text/html": [
              "<div>\n",
              "<style scoped>\n",
              "    .dataframe tbody tr th:only-of-type {\n",
              "        vertical-align: middle;\n",
              "    }\n",
              "\n",
              "    .dataframe tbody tr th {\n",
              "        vertical-align: top;\n",
              "    }\n",
              "\n",
              "    .dataframe thead th {\n",
              "        text-align: right;\n",
              "    }\n",
              "</style>\n",
              "<table border=\"1\" class=\"dataframe\">\n",
              "  <thead>\n",
              "    <tr style=\"text-align: right;\">\n",
              "      <th></th>\n",
              "      <th>country</th>\n",
              "      <th>density</th>\n",
              "      <th>densityMi</th>\n",
              "      <th>pop2021</th>\n",
              "      <th>area</th>\n",
              "    </tr>\n",
              "    <tr>\n",
              "      <th>rank</th>\n",
              "      <th></th>\n",
              "      <th></th>\n",
              "      <th></th>\n",
              "      <th></th>\n",
              "      <th></th>\n",
              "    </tr>\n",
              "  </thead>\n",
              "  <tbody>\n",
              "    <tr>\n",
              "      <th>1</th>\n",
              "      <td>Macau</td>\n",
              "      <td>21946.4667</td>\n",
              "      <td>56841.3487</td>\n",
              "      <td>658.394</td>\n",
              "      <td>30</td>\n",
              "    </tr>\n",
              "    <tr>\n",
              "      <th>2</th>\n",
              "      <td>Monaco</td>\n",
              "      <td>19755.5000</td>\n",
              "      <td>51166.7450</td>\n",
              "      <td>39.511</td>\n",
              "      <td>2</td>\n",
              "    </tr>\n",
              "    <tr>\n",
              "      <th>3</th>\n",
              "      <td>Singapore</td>\n",
              "      <td>8305.1915</td>\n",
              "      <td>21510.4461</td>\n",
              "      <td>5896.686</td>\n",
              "      <td>710</td>\n",
              "    </tr>\n",
              "    <tr>\n",
              "      <th>4</th>\n",
              "      <td>Hong Kong</td>\n",
              "      <td>6841.3134</td>\n",
              "      <td>17719.0017</td>\n",
              "      <td>7552.810</td>\n",
              "      <td>1104</td>\n",
              "    </tr>\n",
              "    <tr>\n",
              "      <th>5</th>\n",
              "      <td>Gibraltar</td>\n",
              "      <td>5616.3333</td>\n",
              "      <td>14546.3033</td>\n",
              "      <td>33.698</td>\n",
              "      <td>6</td>\n",
              "    </tr>\n",
              "  </tbody>\n",
              "</table>\n",
              "</div>"
            ],
            "text/plain": [
              "        country     density   densityMi   pop2021  area\n",
              "rank                                                   \n",
              "1         Macau  21946.4667  56841.3487   658.394    30\n",
              "2        Monaco  19755.5000  51166.7450    39.511     2\n",
              "3     Singapore   8305.1915  21510.4461  5896.686   710\n",
              "4     Hong Kong   6841.3134  17719.0017  7552.810  1104\n",
              "5     Gibraltar   5616.3333  14546.3033    33.698     6"
            ]
          },
          "execution_count": 24,
          "metadata": {},
          "output_type": "execute_result"
        }
      ],
      "source": [
        "df = pd.read_csv(\"https://github.com/anvarnarz/praktikum_datasets/raw/main/world_population.csv\", index_col='rank')\n",
        "df.head()"
      ]
    },
    {
      "cell_type": "markdown",
      "id": "6741cffb-930e-4a93-ab23-96aa0e29d9c9",
      "metadata": {
        "id": "6741cffb-930e-4a93-ab23-96aa0e29d9c9"
      },
      "source": [
        "Yangi SQL jadval yaratamiz"
      ]
    },
    {
      "cell_type": "code",
      "execution_count": null,
      "id": "58003740-cc93-4bf6-bb42-7118194e397c",
      "metadata": {
        "id": "58003740-cc93-4bf6-bb42-7118194e397c"
      },
      "outputs": [],
      "source": [
        "query = \"\"\"\n",
        "CREATE TABLE IF NOT EXISTS worldpop(\n",
        "rank INT,\n",
        "country TEXT PRIMARY KEY,\n",
        "density DOUBLE,\n",
        "population DOUBLE NOT NULL,\n",
        "area INT NOT NULL\n",
        ");\n",
        "\"\"\"\n",
        "cursor.execute(query)\n",
        "db.commit()"
      ]
    },
    {
      "cell_type": "markdown",
      "id": "597cd1bf-004a-4d61-a43e-f00ccf038d50",
      "metadata": {
        "id": "597cd1bf-004a-4d61-a43e-f00ccf038d50"
      },
      "source": [
        "Keling jadvladan O'zbekiston uchun qiymatlarni ajratib olamiz"
      ]
    },
    {
      "cell_type": "code",
      "execution_count": null,
      "id": "147463cc-05f4-4f10-8741-9e2f2a430035",
      "metadata": {
        "id": "147463cc-05f4-4f10-8741-9e2f2a430035",
        "outputId": "0c180cd2-21d3-4a01-a9b9-f072957e5752"
      },
      "outputs": [
        {
          "name": "stdout",
          "output_type": "stream",
          "text": [
            "         country  density  densityMi    pop2021    area\n",
            "rank                                                   \n",
            "133   Uzbekistan  75.8511   196.4542  33935.763  447400\n"
          ]
        }
      ],
      "source": [
        "uz=df[df.country==\"Uzbekistan\"]\n",
        "print(uz)"
      ]
    },
    {
      "cell_type": "code",
      "execution_count": null,
      "id": "a22eb13b-d5b4-490f-8b22-aca740fcd156",
      "metadata": {
        "id": "a22eb13b-d5b4-490f-8b22-aca740fcd156",
        "outputId": "e1b7bd0d-5c72-448d-a5e3-815853e66b4e"
      },
      "outputs": [
        {
          "name": "stdout",
          "output_type": "stream",
          "text": [
            "rank=133, country='Uzbekistan', density=75.8511, population=33935.763, area=447400\n"
          ]
        }
      ],
      "source": [
        "rank = uz.index.values[0]\n",
        "country = uz.at[rank, 'country']\n",
        "density = uz.at[rank, 'density']\n",
        "population = uz.at[rank, 'pop2021']\n",
        "area = uz.at[rank, 'area']\n",
        "print(f\"{rank=}, {country=}, {density=}, {population=}, {area=}\")"
      ]
    },
    {
      "cell_type": "code",
      "execution_count": null,
      "id": "061d12fb-d5ee-4c65-8122-15a60c2a379e",
      "metadata": {
        "id": "061d12fb-d5ee-4c65-8122-15a60c2a379e"
      },
      "outputs": [],
      "source": [
        "query = f\"\"\"\n",
        "INSERT INTO worldpop VALUES ({rank}, '{country}', {density}, {population}, {area})\n",
        "\"\"\"\n",
        "cursor.execute(query)\n",
        "db.commit()"
      ]
    },
    {
      "cell_type": "code",
      "execution_count": null,
      "id": "91c1f0a4-4270-43d5-b34f-11eb4757ea3b",
      "metadata": {
        "id": "91c1f0a4-4270-43d5-b34f-11eb4757ea3b",
        "outputId": "18ed61a8-f14f-4abb-c646-7ef72b9dd6f5"
      },
      "outputs": [
        {
          "data": {
            "text/plain": [
              "[(133, 'Uzbekistan', 75.8511, 33935.763, 447400)]"
            ]
          },
          "execution_count": 29,
          "metadata": {},
          "output_type": "execute_result"
        }
      ],
      "source": [
        "query = \"SELECT * FROM worldpop\"\n",
        "cursor.execute(query)\n",
        "cursor.fetchall()"
      ]
    },
    {
      "cell_type": "markdown",
      "id": "5429d836-84c3-427e-9992-ed16ffbe47b0",
      "metadata": {
        "id": "5429d836-84c3-427e-9992-ed16ffbe47b0"
      },
      "source": [
        "## Omborni yopamiz.\n",
        "Ishni tugatib omborni yopishni unutmang."
      ]
    },
    {
      "cell_type": "code",
      "execution_count": null,
      "id": "358b9fbd-77e1-4abd-934d-108d9a247d0f",
      "metadata": {
        "id": "358b9fbd-77e1-4abd-934d-108d9a247d0f"
      },
      "outputs": [],
      "source": [
        "db.close()"
      ]
    }
  ],
  "metadata": {
    "language_info": {
      "codemirror_mode": {
        "name": "ipython",
        "version": 3
      },
      "file_extension": ".py",
      "mimetype": "text/x-python",
      "name": "python",
      "nbconvert_exporter": "python",
      "pygments_lexer": "ipython3",
      "version": "3.8.8"
    },
    "colab": {
      "provenance": [],
      "include_colab_link": true
    }
  },
  "nbformat": 4,
  "nbformat_minor": 5
}